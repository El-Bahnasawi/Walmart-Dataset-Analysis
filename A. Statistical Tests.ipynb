{
 "cells": [
  {
   "cell_type": "code",
   "execution_count": 108,
   "metadata": {},
   "outputs": [],
   "source": [
    "import pandas as pd\n",
    "import matplotlib.pyplot as plt\n",
    "import statsmodels.api as sm\n",
    "import seaborn as sns\n",
    "import numpy as np\n",
    "import statsmodels.formula.api as smf\n",
    "from scipy.stats import *\n",
    "from statsmodels.stats.diagnostic import het_breuschpagan\n",
    "from scipy.stats import anderson\n",
    "from statsmodels.stats.outliers_influence import variance_inflation_factor"
   ]
  },
  {
   "cell_type": "code",
   "execution_count": 109,
   "metadata": {},
   "outputs": [],
   "source": [
    "train_df = pd.read_csv(\"data/train.csv\")\n",
    "features_df = pd.read_csv(\"data/features.csv\")\n",
    "stores_df = pd.read_csv(\"data/stores.csv\")\n",
    "test_df = pd.read_csv(\"data/test.csv\")"
   ]
  },
  {
   "cell_type": "code",
   "execution_count": 110,
   "metadata": {},
   "outputs": [],
   "source": [
    "train_df = (train_df\n",
    "            .merge(features_df, how='left', indicator='indicator_column')\n",
    "            .merge(stores_df, how='left'))\n",
    "train_df.drop(columns=['indicator_column'], axis=1, inplace=True)"
   ]
  },
  {
   "cell_type": "code",
   "execution_count": 111,
   "metadata": {},
   "outputs": [
    {
     "data": {
      "text/plain": [
       "Index(['Store', 'Dept', 'Date', 'Weekly_Sales', 'IsHoliday', 'Temperature',\n",
       "       'Fuel_Price', 'MarkDown1', 'MarkDown2', 'MarkDown3', 'MarkDown4',\n",
       "       'MarkDown5', 'CPI', 'Unemployment', 'Type', 'Size'],\n",
       "      dtype='object')"
      ]
     },
     "execution_count": 111,
     "metadata": {},
     "output_type": "execute_result"
    }
   ],
   "source": [
    "train_df.columns"
   ]
  },
  {
   "cell_type": "code",
   "execution_count": 112,
   "metadata": {},
   "outputs": [],
   "source": [
    "train_df = train_df.loc[train_df['Weekly_Sales'] > 0] #outliers\n",
    "# train_df[\"Date\"] = pd.to_datetime(train_df[\"Date\"])\n",
    "train_df['year'] = pd.DatetimeIndex(train_df['Date']).year # Separating year data.\n",
    "train_df['month'] = pd.DatetimeIndex(train_df['Date']).month # extract month data\n",
    "\n",
    "week_df = pd.DatetimeIndex(train_df['Date']).isocalendar()\n",
    "train_df['week'] = week_df['week'].values\n",
    "\n",
    "train_df.fillna(0, inplace=True)\n",
    "train_df['Total_MarkDown'] = train_df[['MarkDown1', 'MarkDown2', 'MarkDown3', 'MarkDown4', 'MarkDown5']].sum(axis=1).astype(float)\n",
    "# train_df.set_index(\"Date\")"
   ]
  },
  {
   "cell_type": "code",
   "execution_count": 113,
   "metadata": {},
   "outputs": [
    {
     "data": {
      "text/plain": [
       "Store             0\n",
       "Dept              0\n",
       "Date              0\n",
       "Weekly_Sales      0\n",
       "IsHoliday         0\n",
       "Temperature       0\n",
       "Fuel_Price        0\n",
       "MarkDown1         0\n",
       "MarkDown2         0\n",
       "MarkDown3         0\n",
       "MarkDown4         0\n",
       "MarkDown5         0\n",
       "CPI               0\n",
       "Unemployment      0\n",
       "Type              0\n",
       "Size              0\n",
       "year              0\n",
       "month             0\n",
       "week              0\n",
       "Total_MarkDown    0\n",
       "dtype: int64"
      ]
     },
     "execution_count": 113,
     "metadata": {},
     "output_type": "execute_result"
    }
   ],
   "source": [
    "train_df.isna().sum()"
   ]
  },
  {
   "cell_type": "code",
   "execution_count": 114,
   "metadata": {},
   "outputs": [
    {
     "name": "stdout",
     "output_type": "stream",
     "text": [
      "<class 'pandas.core.frame.DataFrame'>\n",
      "Int64Index: 420212 entries, 0 to 421569\n",
      "Data columns (total 20 columns):\n",
      " #   Column          Non-Null Count   Dtype  \n",
      "---  ------          --------------   -----  \n",
      " 0   Store           420212 non-null  int64  \n",
      " 1   Dept            420212 non-null  int64  \n",
      " 2   Date            420212 non-null  object \n",
      " 3   Weekly_Sales    420212 non-null  float64\n",
      " 4   IsHoliday       420212 non-null  bool   \n",
      " 5   Temperature     420212 non-null  float64\n",
      " 6   Fuel_Price      420212 non-null  float64\n",
      " 7   MarkDown1       420212 non-null  float64\n",
      " 8   MarkDown2       420212 non-null  float64\n",
      " 9   MarkDown3       420212 non-null  float64\n",
      " 10  MarkDown4       420212 non-null  float64\n",
      " 11  MarkDown5       420212 non-null  float64\n",
      " 12  CPI             420212 non-null  float64\n",
      " 13  Unemployment    420212 non-null  float64\n",
      " 14  Type            420212 non-null  object \n",
      " 15  Size            420212 non-null  int64  \n",
      " 16  year            420212 non-null  int64  \n",
      " 17  month           420212 non-null  int64  \n",
      " 18  week            420212 non-null  UInt32 \n",
      " 19  Total_MarkDown  420212 non-null  float64\n",
      "dtypes: UInt32(1), bool(1), float64(11), int64(5), object(2)\n",
      "memory usage: 63.3+ MB\n"
     ]
    }
   ],
   "source": [
    "train_df.info()"
   ]
  },
  {
   "cell_type": "code",
   "execution_count": 115,
   "metadata": {},
   "outputs": [],
   "source": [
    "times_without_markdowns = [train_df['Date'][i] for i in range(40, 91)]\n",
    "times_with_markdowns = [train_df['Date'][i] for i in range(92, 143)]"
   ]
  },
  {
   "cell_type": "code",
   "execution_count": 116,
   "metadata": {},
   "outputs": [
    {
     "name": "stdout",
     "output_type": "stream",
     "text": [
      "['2010-02-05', '2010-02-12', '2010-02-19', '2010-02-26', '2010-03-05', '2010-03-12', '2010-03-19', '2010-03-26', '2010-04-02', '2010-04-09', '2010-04-16', '2010-04-23', '2010-04-30', '2010-05-07', '2010-05-14', '2010-05-21', '2010-05-28', '2010-06-04', '2010-06-11', '2010-06-18', '2010-06-25', '2010-07-02', '2010-07-09', '2010-07-16', '2010-07-23', '2010-07-30', '2010-08-06', '2010-08-13', '2010-08-20', '2010-08-27', '2010-09-03', '2010-09-10', '2010-09-17', '2010-09-24', '2010-10-01', '2010-10-08', '2010-10-15', '2010-10-22', '2010-10-29', '2010-11-05', '2010-11-12', '2010-11-19', '2010-11-26', '2010-12-03', '2010-12-10', '2010-12-17', '2010-12-24', '2010-12-31', '2011-01-07', '2011-01-14', '2011-01-21', '2011-01-28', '2011-02-04', '2011-02-11', '2011-02-18', '2011-02-25', '2011-03-04', '2011-03-11', '2011-03-18', '2011-03-25', '2011-04-01', '2011-04-08', '2011-04-15', '2011-04-22', '2011-04-29', '2011-05-06', '2011-05-13', '2011-05-20', '2011-05-27', '2011-06-03', '2011-06-10', '2011-06-17', '2011-06-24', '2011-07-01', '2011-07-08', '2011-07-15', '2011-07-22', '2011-07-29', '2011-08-05', '2011-08-12', '2011-08-19', '2011-08-26', '2011-09-02', '2011-09-09', '2011-09-16', '2011-09-23', '2011-09-30', '2011-10-07', '2011-10-14', '2011-10-21', '2011-10-28', '2011-11-04', '2011-11-11', '2011-11-18', '2011-11-25', '2011-12-02', '2011-12-09', '2011-12-16', '2011-12-23', '2011-12-30', '2012-01-06', '2012-01-13', '2012-01-20', '2012-01-27', '2012-02-03', '2012-02-10', '2012-02-17', '2012-02-24', '2012-03-02', '2012-03-09', '2012-03-16', '2012-03-23', '2012-03-30', '2012-04-06', '2012-04-13', '2012-04-20', '2012-04-27', '2012-05-04', '2012-05-11', '2012-05-18', '2012-05-25', '2012-06-01', '2012-06-08', '2012-06-15', '2012-06-22', '2012-06-29', '2012-07-06', '2012-07-13', '2012-07-20', '2012-07-27', '2012-08-03', '2012-08-10', '2012-08-17', '2012-08-24', '2012-08-31', '2012-09-07', '2012-09-14', '2012-09-21', '2012-09-28', '2012-10-05', '2012-10-12', '2012-10-19', '2012-10-26']\n"
     ]
    }
   ],
   "source": [
    "print(list(train_df['Date'].unique()))"
   ]
  },
  {
   "cell_type": "code",
   "execution_count": 117,
   "metadata": {},
   "outputs": [
    {
     "name": "stdout",
     "output_type": "stream",
     "text": [
      "40\n",
      "90\n"
     ]
    }
   ],
   "source": [
    "print(list(train_df['Date'].unique()).index('2010-11-12'))\n",
    "print(list(train_df['Date'].unique()).index('2011-10-28'))"
   ]
  },
  {
   "cell_type": "code",
   "execution_count": 118,
   "metadata": {},
   "outputs": [
    {
     "name": "stdout",
     "output_type": "stream",
     "text": [
      "92\n",
      "142\n"
     ]
    }
   ],
   "source": [
    "print(list(train_df['Date'].unique()).index('2011-11-11'))\n",
    "print(list(train_df['Date'].unique()).index('2012-10-26'))"
   ]
  },
  {
   "cell_type": "code",
   "execution_count": 119,
   "metadata": {},
   "outputs": [
    {
     "data": {
      "text/plain": [
       "(420212, 20)"
      ]
     },
     "execution_count": 119,
     "metadata": {},
     "output_type": "execute_result"
    }
   ],
   "source": [
    "train_df.shape"
   ]
  },
  {
   "cell_type": "code",
   "execution_count": 120,
   "metadata": {},
   "outputs": [
    {
     "data": {
      "text/plain": [
       "0          2\n",
       "1          2\n",
       "2          2\n",
       "3          2\n",
       "4          3\n",
       "          ..\n",
       "421565     9\n",
       "421566    10\n",
       "421567    10\n",
       "421568    10\n",
       "421569    10\n",
       "Name: month, Length: 420212, dtype: int64"
      ]
     },
     "execution_count": 120,
     "metadata": {},
     "output_type": "execute_result"
    }
   ],
   "source": [
    "train_df['month']"
   ]
  },
  {
   "cell_type": "markdown",
   "metadata": {},
   "source": [
    "# Testing Normality Assumption\n",
    "###  Kolmogorov–Smirnov test"
   ]
  },
  {
   "cell_type": "code",
   "execution_count": 121,
   "metadata": {},
   "outputs": [
    {
     "name": "stdout",
     "output_type": "stream",
     "text": [
      "Statistics=0.995, p=0.000\n",
      "Sample does not look Gaussian (reject H0)\n"
     ]
    }
   ],
   "source": [
    "stat, p = kstest(train_df['Weekly_Sales'], 'norm')\n",
    "print('Statistics=%.3f, p=%.3f' % (stat, p))\n",
    "alpha = 0.05\n",
    "if p < alpha:\n",
    "    print('Sample does not look Gaussian (reject H0)')\n",
    "else:\n",
    "    print('Sample looks Gaussian (fail to reject H0)')"
   ]
  },
  {
   "cell_type": "code",
   "execution_count": 122,
   "metadata": {},
   "outputs": [
    {
     "data": {
      "image/png": "[encoded data removed]",
      "text/plain": [
       "<Figure size 432x288 with 1 Axes>"
      ]
     },
     "metadata": {
      "needs_background": "light"
     },
     "output_type": "display_data"
    }
   ],
   "source": [
    "plt.hist(train_df['Weekly_Sales'], bins=50, color='blue', edgecolor='black')\n",
    "plt.title('Histogram of Weekly Sales')\n",
    "plt.xlabel('Sales')\n",
    "plt.ylabel('Frequency')\n",
    "plt.show()"
   ]
  },
  {
   "cell_type": "markdown",
   "metadata": {},
   "source": [
    "### BoxCox transformation"
   ]
  },
  {
   "cell_type": "code",
   "execution_count": 123,
   "metadata": {},
   "outputs": [],
   "source": [
    "train_df['boxcox_sales'], _ = boxcox(train_df['Weekly_Sales'])"
   ]
  },
  {
   "cell_type": "code",
   "execution_count": 124,
   "metadata": {},
   "outputs": [
    {
     "data": {
      "image/png": "[encoded data removed]",
      "text/plain": [
       "<Figure size 432x288 with 1 Axes>"
      ]
     },
     "metadata": {
      "needs_background": "light"
     },
     "output_type": "display_data"
    }
   ],
   "source": [
    "plt.hist(train_df['boxcox_sales'], bins=50, color='blue', edgecolor='black')\n",
    "plt.title('Histogram of Weekly Sales')\n",
    "plt.xlabel('Sales')\n",
    "plt.ylabel('Frequency')\n",
    "plt.show()"
   ]
  },
  {
   "cell_type": "code",
   "execution_count": 125,
   "metadata": {},
   "outputs": [
    {
     "name": "stdout",
     "output_type": "stream",
     "text": [
      "Statistics=0.986, p=0.000\n",
      "Sample does not look Gaussian (reject H0)\n"
     ]
    }
   ],
   "source": [
    "stat, p = kstest(train_df['boxcox_sales'], 'norm')\n",
    "print('Statistics=%.3f, p=%.3f' % (stat, p))\n",
    "alpha = 0.05\n",
    "if p > alpha:\n",
    "    print('Sample looks Gaussian (fail to reject H0)')\n",
    "else:\n",
    "    print('Sample does not look Gaussian (reject H0)')"
   ]
  },
  {
   "cell_type": "markdown",
   "metadata": {},
   "source": [
    "# Markdowns "
   ]
  },
  {
   "cell_type": "code",
   "execution_count": 126,
   "metadata": {},
   "outputs": [
    {
     "data": {
      "text/plain": [
       "Index(['Store', 'Dept', 'Date', 'Weekly_Sales', 'IsHoliday', 'Temperature',\n",
       "       'Fuel_Price', 'MarkDown1', 'MarkDown2', 'MarkDown3', 'MarkDown4',\n",
       "       'MarkDown5', 'CPI', 'Unemployment', 'Type', 'Size', 'year', 'month',\n",
       "       'week', 'Total_MarkDown', 'boxcox_sales'],\n",
       "      dtype='object')"
      ]
     },
     "execution_count": 126,
     "metadata": {},
     "output_type": "execute_result"
    }
   ],
   "source": [
    "# Split data into two groups: days with markdowns and days without markdowns\n",
    "sales_with_markdown = train_df[train_df['Date'].isin(times_with_markdowns)]['Weekly_Sales'] # Nov 11 to Oct 26 [2012]\n",
    "sales_without_markdown = train_df[train_df['Date'].isin(times_without_markdowns)]['Weekly_Sales'] # Nov 12 to Oct 28 [2011]\n",
    "train_df.columns"
   ]
  },
  {
   "cell_type": "code",
   "execution_count": 127,
   "metadata": {},
   "outputs": [
    {
     "name": "stdout",
     "output_type": "stream",
     "text": [
      "(150929,)\n",
      "(149535,)\n"
     ]
    }
   ],
   "source": [
    "print(sales_with_markdown.shape)\n",
    "print(sales_without_markdown.shape)"
   ]
  },
  {
   "cell_type": "code",
   "execution_count": 128,
   "metadata": {},
   "outputs": [
    {
     "name": "stdout",
     "output_type": "stream",
     "text": [
      "16231.116040721136\n",
      "7585.62\n"
     ]
    }
   ],
   "source": [
    "print(sales_with_markdown.mean())\n",
    "print(sales_with_markdown.median())"
   ]
  },
  {
   "cell_type": "code",
   "execution_count": 129,
   "metadata": {},
   "outputs": [
    {
     "name": "stdout",
     "output_type": "stream",
     "text": [
      "16021.836361788208\n",
      "7596.61\n"
     ]
    }
   ],
   "source": [
    "print(sales_without_markdown.mean())\n",
    "print(sales_without_markdown.median())"
   ]
  },
  {
   "cell_type": "code",
   "execution_count": 130,
   "metadata": {},
   "outputs": [
    {
     "data": {
      "image/png": "[encoded data removed]",
      "text/plain": [
       "<Figure size 432x288 with 1 Axes>"
      ]
     },
     "metadata": {
      "needs_background": "light"
     },
     "output_type": "display_data"
    }
   ],
   "source": [
    "plt.hist(sales_with_markdown, bins=50, color='blue', edgecolor='black')\n",
    "plt.title('Histogram of Weekly Sales with markdowns')\n",
    "plt.xlabel('Sales')\n",
    "plt.ylabel('Frequency')\n",
    "plt.show()"
   ]
  },
  {
   "cell_type": "code",
   "execution_count": 131,
   "metadata": {},
   "outputs": [
    {
     "data": {
      "image/png": "[encoded data removed]",
      "text/plain": [
       "<Figure size 432x288 with 1 Axes>"
      ]
     },
     "metadata": {
      "needs_background": "light"
     },
     "output_type": "display_data"
    }
   ],
   "source": [
    "plt.hist(sales_without_markdown, bins=50, color='blue', edgecolor='black')\n",
    "plt.title('Histogram of Weekly Sales without markdowns')\n",
    "plt.xlabel('Sales')\n",
    "plt.ylabel('Frequency')\n",
    "plt.show()"
   ]
  },
  {
   "cell_type": "markdown",
   "metadata": {},
   "source": [
    "# Two-Sample Kolmogorov-Smirnov (KS)\n",
    "The Two-Sample Kolmogorov-Smirnov (KS) Test is a non-parametric test used to determine if two independent samples come from the same continuous distribution. Unlike the t-test, which compares sample means, the KS test compares the entire distribution of data for both samples.\n",
    "\n",
    "For the Two-Sample KS Test to be valid, the following assumptions should be considered:\n",
    "\n",
    "- Independence: Observations within each sample and between the two samples must be independent.\n",
    "\n",
    "- Continuous Distribution: The test is most suitable for continuous distributions. If used on discrete distributions, the calculated probabilities may be higher than the actual significance levels.\n",
    "\n",
    "- Random Sampling: The data for both samples should be randomly drawn from their respective populations.\n",
    "\n",
    "- Identical Distributions (under null hypothesis): Under the null hypothesis, it is assumed that both samples come from the same distribution. The alternative hypothesis posits that they come from different distributions."
   ]
  },
  {
   "cell_type": "code",
   "execution_count": 132,
   "metadata": {},
   "outputs": [
    {
     "name": "stdout",
     "output_type": "stream",
     "text": [
      " the two samples do not come from the same distribution.\n"
     ]
    }
   ],
   "source": [
    "if ks_2samp(sales_with_markdown, sales_without_markdown).pvalue < alpha:\n",
    "    print(\" the two samples do not come from the same distribution.\")"
   ]
  },
  {
   "cell_type": "markdown",
   "metadata": {},
   "source": [
    "- The two samples do have similar shapes: and that's an assumption of Mann Whitney U test"
   ]
  },
  {
   "cell_type": "markdown",
   "metadata": {},
   "source": [
    "# Homoscedasticity (Equal Variances)"
   ]
  },
  {
   "cell_type": "markdown",
   "metadata": {},
   "source": [
    "## Levene's Test\n",
    "Levene's Test is used to test the assumption of equal variances among two or more groups. Equal variances across samples is called homoscedasticity or homogeneity of variances. This test is an alternative to the Bartlett's test, offering more robustness when the assumptions of normality are not met.\n",
    "\n",
    "For the Levene's Test to provide valid results, it's crucial to meet the following assumptions:\n",
    "\n",
    "- Independence: Observations within each group and among different groups must be independent.\n",
    "\n",
    "- Random Sampling: The data for all groups should be obtained through a random sampling method from their respective populations.\n",
    "\n",
    "- Measurement Level: The dependent variable should be at least interval or ratio in scale, which means it should be numeric (continuous or discrete).\n",
    "\n",
    "- Normally Distributed (with a caveat): While the test is more robust to violations of this assumption compared to, say, Bartlett's test, it's still generally expected that the data comes from a normally distributed population. However, the main focus is on the variances and not the distribution of the actual data values."
   ]
  },
  {
   "cell_type": "code",
   "execution_count": 133,
   "metadata": {},
   "outputs": [
    {
     "name": "stdout",
     "output_type": "stream",
     "text": [
      "We would reject the null hypothesis. The variance between the two groups is significantly different.\n"
     ]
    }
   ],
   "source": [
    "alpha = 0.05  # typically alpha is set to 0.05, but you should define it if it's different\n",
    "statistic, p_value = levene(sales_with_markdown, sales_without_markdown, center='trimmed')\n",
    "\n",
    "if p_value < alpha:\n",
    "    print(\"We would reject the null hypothesis. The variance between the two groups is significantly different.\")\n",
    "else:\n",
    "    print(\"We would fail to reject the null hypothesis. We do not have sufficient evidence to say that the variance between the two groups is significantly different.\")"
   ]
  },
  {
   "cell_type": "markdown",
   "metadata": {},
   "source": [
    "## Welch’s t-test\n",
    "Welch's t-test, often referred to as the unequal variances t-test, is a statistical test used to determine if there is a significant difference between the means of two independent groups, even if the variances of the two groups are not assumed to be equal. It is an adaptation of the independent two-sample t-test\n",
    "\n",
    "For Welch's t-test to be valid, the following assumptions must be met:\n",
    "\n",
    "- Independence: Observations within each group and between the two groups must be independent. This means that the outcome for one observation shouldn't influence the outcome for another.\n",
    "\n",
    "- Normality: The two populations from which the samples are drawn should be approximately normally distributed. However, the test is fairly robust against deviations from this assumption, especially with larger sample sizes.\n",
    "\n",
    "- Equality of Variances (Not Assumed): Unlike the Student's t-test, Welch's t-test does not assume equal variances between the two groups. This makes it more appropriate when there's a clear violation of the equal variances assumption.\n",
    "\n",
    "- Random Sampling: The data should be collected using a method that ensures a random sample from the populations."
   ]
  },
  {
   "cell_type": "code",
   "execution_count": 134,
   "metadata": {},
   "outputs": [
    {
     "name": "stdout",
     "output_type": "stream",
     "text": [
      "Welch's t-test results:\n",
      "T-statistic: 2.4790285478749485\n",
      "P-value: 0.013174620545667051\n",
      "Cohen's d: 0.009044813464265063\n"
     ]
    }
   ],
   "source": [
    "# Compute Welch's t-test\n",
    "t_stat, p_val = ttest_ind(sales_with_markdown, sales_without_markdown, equal_var=False)\n",
    "\n",
    "# Calculate the size of each sample\n",
    "n1, n2 = len(sales_with_markdown), len(sales_without_markdown)\n",
    "\n",
    "# Compute the variance of each group\n",
    "s1_2, s2_2 = np.var(sales_with_markdown, ddof=1), np.var(sales_without_markdown, ddof=1)\n",
    "\n",
    "# Compute pooled standard deviation for Cohen's d\n",
    "s_pooled = np.sqrt(((n1-1)*s1_2 + (n2-1)*s2_2) / (n1 + n2 - 2))\n",
    "\n",
    "# Compute Cohen's d\n",
    "cohens_d = (np.mean(sales_with_markdown) - np.mean(sales_without_markdown)) / s_pooled\n",
    "\n",
    "print(f\"Welch's t-test results:\\nT-statistic: {t_stat}\\nP-value: {p_val}\\nCohen's d: {cohens_d}\")"
   ]
  },
  {
   "cell_type": "markdown",
   "metadata": {},
   "source": [
    "### **Results**\n",
    "\n",
    "- **Sample Sizes**: \n",
    "  - With Markdowns: 150,929\n",
    "  - Without Markdowns: 149,535\n",
    "\n",
    "- **Welch's t-test Results**:\n",
    "  - **T-statistic**: 2.479\n",
    "  - **P-value**: 0.0132\n",
    "\n",
    "- **Effect Size**:\n",
    "  - **Cohen's \\(d\\)**: 0.00904\n",
    "\n",
    "### **Interpretation**\n",
    "\n",
    "1. **T-statistic & P-value**: \n",
    "  - The t-test suggests a statistically significant difference between sales with and without markdowns. A p-value of 0.0132 (less than 0.05) supports this finding.\n",
    "\n",
    "2. **Cohen's \\(d\\)**: \n",
    "  - Despite the statistical significance, the effect size is very small. In terms of Cohen's \\(d\\), a value of 0.00904 is much smaller than the commonly considered \"small\" effect size (0.2).\n",
    "\n",
    "\n",
    "While there's a statistically significant difference between sales with and without markdowns, the magnitude of this difference (as measured by Cohen's \\(d\\)) is minor. For Walmart, decisions should factor in other considerations, such as the costs of implementing markdowns versus potential profit from increased sales."
   ]
  },
  {
   "cell_type": "markdown",
   "metadata": {},
   "source": []
  },
  {
   "cell_type": "markdown",
   "metadata": {},
   "source": [
    "## Mann-Whitney U test\n",
    "\n",
    "The Mann-Whitney U Test is a non-parametric test used to determine if two independent samples are drawn from the same population or, equivalently,\n",
    "if the distributions of the two samples are equal. Unlike the t-test which compares means, this test compares medians.\n",
    "\n",
    "The following are key assumptions of the Mann-Whitney U Test:\n",
    "- Independence: Observations in each sample must be independent\n",
    "of each other. This means that there’s no relationship between the\n",
    "observations in the two groups.\n",
    "- Ordinal Data: The variable of interest should be ordinal, interval, or\n",
    "ratio scale.\n",
    "- Shape of Distributions: The shapes of the distributions in the two\n",
    "groups should be approximately the same. Note that this does not\n",
    "mean the distributions themselves have to be identical; their general\n",
    "shapes should be similar."
   ]
  },
  {
   "cell_type": "code",
   "execution_count": 135,
   "metadata": {},
   "outputs": [
    {
     "name": "stdout",
     "output_type": "stream",
     "text": [
      "U-statistic: 11286538474.0\n",
      "P-value: 0.9344737942164596\n",
      "Based on the Mann-Whitney U Test, we fail to reject the null hypothesis. There's no significant difference in sales between the two groups.\n"
     ]
    }
   ],
   "source": [
    "# Compute Mann-Whitney U test\n",
    "u_stat, p_value_u = mannwhitneyu(sales_with_markdown, sales_without_markdown, alternative='two-sided')\n",
    "\n",
    "print(\"U-statistic:\", u_stat)\n",
    "print(\"P-value:\", p_value_u)\n",
    "\n",
    "if p_value_u < alpha:\n",
    "    print(\"Based on the Mann-Whitney U Test, we reject the null hypothesis. Sales on days with markdowns are statistically different from days without markdowns.\")\n",
    "else:\n",
    "    print(\"Based on the Mann-Whitney U Test, we fail to reject the null hypothesis. There's no significant difference in sales between the two groups.\")"
   ]
  },
  {
   "cell_type": "markdown",
   "metadata": {},
   "source": [
    "The statistical tests suggest certain differences between the groups. However, the real-world significance, especially observed from the time series data, suggests that markdowns might not have had the desired impact on sales."
   ]
  },
  {
   "cell_type": "code",
   "execution_count": 136,
   "metadata": {},
   "outputs": [],
   "source": [
    "data_without_markdown = train_df[train_df['Date'].isin(times_without_markdowns)]\n",
    "data_with_markdown = train_df[train_df['Date'].isin(times_with_markdowns)]"
   ]
  },
  {
   "cell_type": "code",
   "execution_count": 137,
   "metadata": {},
   "outputs": [
    {
     "name": "stdout",
     "output_type": "stream",
     "text": [
      "Without Markdowns:\n",
      "         Temperature     Fuel_Price            CPI   Unemployment\n",
      "count  149535.000000  149535.000000  149535.000000  149535.000000\n",
      "mean       58.262710       3.497710     170.353657       8.145702\n",
      "std        20.037013       0.362846      38.519577       1.880962\n",
      "min        -2.060000       2.694000     126.546161       4.420000\n",
      "25%        43.380000       3.232000     132.815032       7.193000\n",
      "50%        60.380000       3.566000     182.783277       7.907000\n",
      "75%        73.260000       3.786000     212.751488       8.572000\n",
      "max        99.660000       4.211000     221.315956      14.313000\n",
      "\n",
      "With Markdowns:\n",
      "         Temperature     Fuel_Price            CPI   Unemployment\n",
      "count  150929.000000  150929.000000  150929.000000  150929.000000\n",
      "mean       59.797929       3.658622     174.790314       7.400562\n",
      "std        17.645491       0.289300      40.347714       1.724165\n",
      "min         7.460000       3.031000     129.816710       3.879000\n",
      "25%        47.120000       3.476000     136.490933       6.334000\n",
      "50%        60.880000       3.666000     189.062016       7.244000\n",
      "75%        73.870000       3.864000     219.904907       8.256000\n",
      "max       100.070000       4.468000     227.232807      12.890000\n"
     ]
    }
   ],
   "source": [
    "print(\"Without Markdowns:\")\n",
    "print(data_without_markdown[['Temperature', 'Fuel_Price', 'CPI', 'Unemployment']].describe())\n",
    "\n",
    "print(\"\\nWith Markdowns:\")\n",
    "print(data_with_markdown[['Temperature', 'Fuel_Price', 'CPI', 'Unemployment']].describe())"
   ]
  },
  {
   "cell_type": "code",
   "execution_count": 138,
   "metadata": {},
   "outputs": [
    {
     "name": "stdout",
     "output_type": "stream",
     "text": [
      "Difference in Means (With Markdowns - Without Markdowns):\n",
      "\n",
      "Temperature     1.535219\n",
      "Fuel_Price      0.160912\n",
      "CPI             4.436657\n",
      "Unemployment   -0.745140\n",
      "Name: mean, dtype: float64\n"
     ]
    }
   ],
   "source": [
    "# Assuming you've already computed the descriptives as:\n",
    "stats_without_markdowns = data_without_markdown[['Temperature', 'Fuel_Price', 'CPI', 'Unemployment']].describe()\n",
    "stats_with_markdowns = data_with_markdown[['Temperature', 'Fuel_Price', 'CPI', 'Unemployment']].describe()\n",
    "\n",
    "# Compute the differences in means:\n",
    "difference_in_means = stats_with_markdowns.loc['mean'] - stats_without_markdowns.loc['mean']\n",
    "\n",
    "print(\"Difference in Means (With Markdowns - Without Markdowns):\\n\")\n",
    "print(difference_in_means)"
   ]
  },
  {
   "cell_type": "markdown",
   "metadata": {},
   "source": [
    "# Regression Analysis"
   ]
  },
  {
   "cell_type": "code",
   "execution_count": 139,
   "metadata": {},
   "outputs": [
    {
     "name": "stdout",
     "output_type": "stream",
     "text": [
      "                            OLS Regression Results                            \n",
      "==============================================================================\n",
      "Dep. Variable:           Weekly_Sales   R-squared:                       0.037\n",
      "Model:                            OLS   Adj. R-squared:                  0.037\n",
      "Method:                 Least Squares   F-statistic:                     829.1\n",
      "Date:                Thu, 19 Oct 2023   Prob (F-statistic):               0.00\n",
      "Time:                        22:23:55   Log-Likelihood:            -1.7113e+06\n",
      "No. Observations:              149535   AIC:                         3.423e+06\n",
      "Df Residuals:                  149527   BIC:                         3.423e+06\n",
      "Df Model:                           7                                         \n",
      "Covariance Type:            nonrobust                                         \n",
      "=====================================================================================\n",
      "                        coef    std err          t      P>|t|      [0.025      0.975]\n",
      "-------------------------------------------------------------------------------------\n",
      "Intercept          3.339e+04    883.850     37.779      0.000    3.17e+04    3.51e+04\n",
      "Type[T.B]         -7881.8480    125.640    -62.733      0.000   -8128.101   -7635.595\n",
      "Type[T.C]          -1.08e+04    207.580    -52.012      0.000   -1.12e+04   -1.04e+04\n",
      "IsHoliday[T.True]   821.6659    224.127      3.666      0.000     382.381    1260.951\n",
      "Temperature          32.7619      3.890      8.421      0.000      25.137      40.387\n",
      "Fuel_Price        -2214.0747    214.052    -10.344      0.000   -2633.613   -1794.537\n",
      "CPI                 -32.7416      1.801    -18.183      0.000     -36.271     -29.212\n",
      "Unemployment       -231.2842     33.468     -6.911      0.000    -296.881    -165.687\n",
      "==============================================================================\n",
      "Omnibus:                   118558.477   Durbin-Watson:                   0.164\n",
      "Prob(Omnibus):                  0.000   Jarque-Bera (JB):          5232240.425\n",
      "Skew:                           3.478   Prob(JB):                         0.00\n",
      "Kurtosis:                      31.131   Cond. No.                     2.85e+03\n",
      "==============================================================================\n",
      "\n",
      "Notes:\n",
      "[1] Standard Errors assume that the covariance matrix of the errors is correctly specified.\n",
      "[2] The condition number is large, 2.85e+03. This might indicate that there are\n",
      "strong multicollinearity or other numerical problems.\n"
     ]
    }
   ],
   "source": [
    "formula_no_md = \"Weekly_Sales ~ Temperature + Fuel_Price + CPI + Unemployment + Type + IsHoliday\"\n",
    "model_no_md = smf.ols(formula=formula_no_md, data=data_without_markdown).fit()\n",
    "print(model_no_md.summary())"
   ]
  },
  {
   "cell_type": "code",
   "execution_count": 140,
   "metadata": {},
   "outputs": [
    {
     "name": "stdout",
     "output_type": "stream",
     "text": [
      "                            OLS Regression Results                            \n",
      "==============================================================================\n",
      "Dep. Variable:           Weekly_Sales   R-squared:                       0.038\n",
      "Model:                            OLS   Adj. R-squared:                  0.038\n",
      "Method:                 Least Squares   F-statistic:                     846.3\n",
      "Date:                Thu, 19 Oct 2023   Prob (F-statistic):               0.00\n",
      "Time:                        22:23:56   Log-Likelihood:            -1.7287e+06\n",
      "No. Observations:              150929   AIC:                         3.457e+06\n",
      "Df Residuals:                  150921   BIC:                         3.458e+06\n",
      "Df Model:                           7                                         \n",
      "Covariance Type:            nonrobust                                         \n",
      "=====================================================================================\n",
      "                        coef    std err          t      P>|t|      [0.025      0.975]\n",
      "-------------------------------------------------------------------------------------\n",
      "Intercept          3.099e+04   1000.868     30.961      0.000     2.9e+04    3.29e+04\n",
      "Type[T.B]         -8096.1341    126.180    -64.164      0.000   -8343.444   -7848.824\n",
      "Type[T.C]         -1.081e+04    204.205    -52.958      0.000   -1.12e+04   -1.04e+04\n",
      "IsHoliday[T.True]  1479.7721    221.954      6.667      0.000    1044.747    1914.797\n",
      "Temperature          11.6816      3.691      3.165      0.002       4.448      18.915\n",
      "Fuel_Price        -1206.9779    242.310     -4.981      0.000   -1681.900    -732.056\n",
      "CPI                 -27.6514      1.704    -16.229      0.000     -30.991     -24.312\n",
      "Unemployment       -280.4542     36.315     -7.723      0.000    -351.631    -209.277\n",
      "==============================================================================\n",
      "Omnibus:                   111630.681   Durbin-Watson:                   0.139\n",
      "Prob(Omnibus):                  0.000   Jarque-Bera (JB):          3502287.441\n",
      "Skew:                           3.243   Prob(JB):                         0.00\n",
      "Kurtosis:                      25.690   Cond. No.                     3.30e+03\n",
      "==============================================================================\n",
      "\n",
      "Notes:\n",
      "[1] Standard Errors assume that the covariance matrix of the errors is correctly specified.\n",
      "[2] The condition number is large, 3.3e+03. This might indicate that there are\n",
      "strong multicollinearity or other numerical problems.\n"
     ]
    }
   ],
   "source": [
    "formula_md = \"Weekly_Sales ~ Temperature + Fuel_Price + CPI + Unemployment + Type + IsHoliday\"\n",
    "model_md = smf.ols(formula=formula_md, data=data_with_markdown).fit()\n",
    "print(model_md.summary())"
   ]
  },
  {
   "cell_type": "code",
   "execution_count": 141,
   "metadata": {},
   "outputs": [
    {
     "data": {
      "text/plain": [
       "(149535, 21)"
      ]
     },
     "execution_count": 141,
     "metadata": {},
     "output_type": "execute_result"
    }
   ],
   "source": [
    "data_without_markdown.shape"
   ]
  },
  {
   "cell_type": "markdown",
   "metadata": {},
   "source": [
    "--- "
   ]
  },
  {
   "cell_type": "code",
   "execution_count": 142,
   "metadata": {},
   "outputs": [
    {
     "name": "stderr",
     "output_type": "stream",
     "text": [
      "C:\\Users\\Mahmoud\\AppData\\Local\\Temp\\ipykernel_12096\\2574000876.py:2: SettingWithCopyWarning: \n",
      "A value is trying to be set on a copy of a slice from a DataFrame.\n",
      "Try using .loc[row_indexer,col_indexer] = value instead\n",
      "\n",
      "See the caveats in the documentation: https://pandas.pydata.org/pandas-docs/stable/user_guide/indexing.html#returning-a-view-versus-a-copy\n",
      "  data_with_markdown['Total_MarkDown'] = data_with_markdown[['MarkDown1', 'MarkDown2', 'MarkDown3', 'MarkDown4', 'MarkDown5']].sum(axis=1)\n"
     ]
    }
   ],
   "source": [
    "# Calculate the Total_MarkDown by summing all markdown columns\n",
    "data_with_markdown['Total_MarkDown'] = data_with_markdown[['MarkDown1', 'MarkDown2', 'MarkDown3', 'MarkDown4', 'MarkDown5']].sum(axis=1)"
   ]
  },
  {
   "cell_type": "markdown",
   "metadata": {},
   "source": []
  },
  {
   "cell_type": "code",
   "execution_count": 143,
   "metadata": {},
   "outputs": [],
   "source": [
    "df_store_dept = data_with_markdown.groupby(['Store', 'Dept']).agg({\n",
    "    'Weekly_Sales': 'sum',\n",
    "    'Temperature': 'mean',\n",
    "    'Fuel_Price': 'mean',\n",
    "    'CPI': 'mean',\n",
    "    'Unemployment': 'mean',\n",
    "    \"Total_MarkDown\": \"mean\"\n",
    "}).reset_index()"
   ]
  },
  {
   "cell_type": "code",
   "execution_count": 144,
   "metadata": {},
   "outputs": [
    {
     "data": {
      "image/png": "[encoded data removed]",
      "text/plain": [
       "<Figure size 720x432 with 1 Axes>"
      ]
     },
     "metadata": {
      "needs_background": "light"
     },
     "output_type": "display_data"
    }
   ],
   "source": [
    "from sklearn.cluster import KMeans\n",
    "import matplotlib.pyplot as plt\n",
    "\n",
    "# Assuming you've already loaded and preprocessed your data as 'X'\n",
    "features = ['Weekly_Sales', 'Temperature', 'Fuel_Price', 'CPI', 'Unemployment', \"Total_MarkDown\"]\n",
    "X = df_store_dept[features]\n",
    "# Use the inertia attribute to identify the sum of squared distances of samples to the nearest cluster center\n",
    "sum_of_squared_distances = []\n",
    "\n",
    "K = range(1,15)  # here we're checking for up to 14 clusters\n",
    "for k in K:\n",
    "    km = KMeans(n_clusters=k, n_init=10)\n",
    "    km = km.fit(X)\n",
    "    sum_of_squared_distances.append(km.inertia_)\n",
    "\n",
    "# Plot the elbow\n",
    "plt.figure(figsize=(10,6))\n",
    "plt.plot(K, sum_of_squared_distances, 'bx-')\n",
    "plt.xlabel('Number of Clusters (k)')\n",
    "plt.ylabel('Sum of Squared Distances')\n",
    "plt.title('Elbow Method For Optimal k')\n",
    "plt.show()"
   ]
  },
  {
   "cell_type": "code",
   "execution_count": 145,
   "metadata": {},
   "outputs": [
    {
     "name": "stdout",
     "output_type": "stream",
     "text": [
      "For n_clusters = 2, the silhouette score is 0.755\n",
      "For n_clusters = 3, the silhouette score is 0.683\n",
      "For n_clusters = 4, the silhouette score is 0.664\n",
      "For n_clusters = 5, the silhouette score is 0.651\n",
      "For n_clusters = 6, the silhouette score is 0.637\n",
      "For n_clusters = 7, the silhouette score is 0.614\n",
      "For n_clusters = 8, the silhouette score is 0.608\n",
      "For n_clusters = 9, the silhouette score is 0.603\n",
      "For n_clusters = 10, the silhouette score is 0.603\n"
     ]
    },
    {
     "data": {
      "image/png": "[encoded data removed]",
      "text/plain": [
       "<Figure size 720x432 with 1 Axes>"
      ]
     },
     "metadata": {
      "needs_background": "light"
     },
     "output_type": "display_data"
    }
   ],
   "source": [
    "from sklearn.metrics import silhouette_score\n",
    "import matplotlib.pyplot as plt\n",
    "\n",
    "# Assuming you've already loaded and preprocessed your data as 'X'\n",
    "\n",
    "# Determine the range of cluster numbers you want to test (e.g., 2 to 10)\n",
    "range_n_clusters = list(range(2,11))\n",
    "\n",
    "silhouette_scores = []\n",
    "\n",
    "# Calculate silhouette scores for different numbers of clusters\n",
    "for n_clusters in range_n_clusters:\n",
    "    clusterer = KMeans(n_clusters=n_clusters, random_state=42, n_init=10)\n",
    "    cluster_labels = clusterer.fit_predict(X)\n",
    "    \n",
    "    # Calculate the mean silhouette coefficient for the number of clusters chosen\n",
    "    silhouette_avg = silhouette_score(X, cluster_labels)\n",
    "    silhouette_scores.append(silhouette_avg)\n",
    "    print(f\"For n_clusters = {n_clusters}, the silhouette score is {silhouette_avg:.3f}\")\n",
    "\n",
    "# Plot silhouette scores\n",
    "plt.figure(figsize=(10,6))\n",
    "plt.plot(range_n_clusters, silhouette_scores, marker='o')\n",
    "plt.xlabel(\"Number of Clusters\")\n",
    "plt.ylabel(\"Silhouette Score\")\n",
    "plt.title(\"Silhouette Score vs. Number of Clusters\")\n",
    "plt.grid(True)\n",
    "plt.show()"
   ]
  },
  {
   "cell_type": "code",
   "execution_count": 146,
   "metadata": {},
   "outputs": [
    {
     "data": {
      "text/plain": [
       "[3918670303169708.0,\n",
       " 1325994215817703.8,\n",
       " 689252373275130.5,\n",
       " 403252707834513.7,\n",
       " 252887202383686.72,\n",
       " 172083323373792.38,\n",
       " 127023234685149.75,\n",
       " 99218492322815.08,\n",
       " 77012225832647.78,\n",
       " 63017265508120.4,\n",
       " 51197522893821.17,\n",
       " 42363587681243.77,\n",
       " 36069408765720.875,\n",
       " 30678416164753.03]"
      ]
     },
     "execution_count": 146,
     "metadata": {},
     "output_type": "execute_result"
    }
   ],
   "source": [
    "sum_of_squared_distances"
   ]
  },
  {
   "cell_type": "code",
   "execution_count": 147,
   "metadata": {},
   "outputs": [
    {
     "data": {
      "text/plain": [
       "[0.7545858723319415,\n",
       " 0.6830845251807299,\n",
       " 0.6642110362366702,\n",
       " 0.6508685730785952,\n",
       " 0.6367054134341825,\n",
       " 0.6142362253715588,\n",
       " 0.6078714353580262,\n",
       " 0.6029215443121192,\n",
       " 0.6029083500861345]"
      ]
     },
     "execution_count": 147,
     "metadata": {},
     "output_type": "execute_result"
    }
   ],
   "source": [
    "silhouette_scores"
   ]
  },
  {
   "cell_type": "code",
   "execution_count": 148,
   "metadata": {},
   "outputs": [],
   "source": [
    "from sklearn.cluster import KMeans\n",
    "from sklearn.preprocessing import StandardScaler\n",
    "\n",
    "# Selecting relevant columns and scaling the data\n",
    "features = ['Weekly_Sales', 'Temperature', 'Fuel_Price', 'CPI', 'Unemployment', \"Total_MarkDown\"]\n",
    "X = df_store_dept[features]\n",
    "scaler = StandardScaler()\n",
    "X_scaled = scaler.fit_transform(X)\n",
    "\n",
    "\n",
    "# Clustering\n",
    "kmeans = KMeans(n_clusters=4, random_state=42, n_init=10).fit(X_scaled)\n",
    "df_store_dept['Cluster'] = kmeans.labels_"
   ]
  },
  {
   "cell_type": "code",
   "execution_count": 149,
   "metadata": {},
   "outputs": [
    {
     "data": {
      "image/png": "[encoded data removed]",
      "text/plain": [
       "<Figure size 1080x504 with 1 Axes>"
      ]
     },
     "metadata": {
      "needs_background": "light"
     },
     "output_type": "display_data"
    }
   ],
   "source": [
    "# Visualization for the distribution of Weekly Sales across clusters\n",
    "plt.figure(figsize=(15, 7))\n",
    "sns.boxplot(x='Cluster', y='Weekly_Sales', data=df_store_dept)\n",
    "plt.title('Distribution of Weekly Sales by Cluster')\n",
    "plt.show()"
   ]
  },
  {
   "cell_type": "code",
   "execution_count": 150,
   "metadata": {},
   "outputs": [
    {
     "name": "stdout",
     "output_type": "stream",
     "text": [
      "[ 1  3  4  6 10 11 12 14 16 17 18 19 20 21 22 24 25 26 27 28 29 30 31 32\n",
      " 33 34 35 36 37 41 42 44 45 47 48 49 50 52 54 55 56 58 59 60 67 71 74 79\n",
      " 80 81 82 83 85 87 90 91 93 94 96 97 98  5  7  8  9 13 23 38 40 46 72 77\n",
      " 78 92 95 99 51  2 39 65]\n",
      "[38 40 72 87 90 91 92 93 94 95  2  4  8 13  5  7 10 23 46 79 96 97  9 77\n",
      "  1 80 81 82]\n",
      "[77 78  1  3  6  9 11 12 14 16 17 18 19 20 21 22 24 25 26 27 28 29 30 31\n",
      " 32 33 34 35 36 37 41 42 44 45 47 48 49 52 54 55 56 58 59 60 67 71 74 80\n",
      " 81 82 83 85 87 98 99  2  4  5  7  8 10 13 23 38 40 46 72 79 90 91 92 93\n",
      " 94 95 96 97 43 50 51 39]\n",
      "[ 1  2  3  4  5  6  7  8  9 10 11 12 13 14 16 17 18 19 20 21 22 23 24 25\n",
      " 26 27 28 29 30 31 32 33 34 35 36 37 41 42 44 45 46 47 48 49 52 54 55 56\n",
      " 58 59 60 67 71 74 77 79 80 81 82 83 85 96 97 98 99 87 40 51 72 90 91 92\n",
      " 94 95 38 78 93]\n"
     ]
    }
   ],
   "source": [
    "print(df_store_dept[df_store_dept[\"Cluster\"] == 0][\"Dept\"].unique())\n",
    "print(df_store_dept[df_store_dept[\"Cluster\"] == 1][\"Dept\"].unique())\n",
    "print(df_store_dept[df_store_dept[\"Cluster\"] == 2][\"Dept\"].unique())\n",
    "print(df_store_dept[df_store_dept[\"Cluster\"] == 3][\"Dept\"].unique())"
   ]
  },
  {
   "cell_type": "code",
   "execution_count": 151,
   "metadata": {},
   "outputs": [
    {
     "name": "stdout",
     "output_type": "stream",
     "text": [
      "80\n",
      "28\n",
      "80\n",
      "77\n"
     ]
    }
   ],
   "source": [
    "print(df_store_dept[df_store_dept[\"Cluster\"] == 0][\"Dept\"].nunique())\n",
    "print(df_store_dept[df_store_dept[\"Cluster\"] == 1][\"Dept\"].nunique())\n",
    "print(df_store_dept[df_store_dept[\"Cluster\"] == 2][\"Dept\"].nunique())\n",
    "print(df_store_dept[df_store_dept[\"Cluster\"] == 3][\"Dept\"].nunique())"
   ]
  },
  {
   "cell_type": "code",
   "execution_count": 152,
   "metadata": {},
   "outputs": [
    {
     "data": {
      "text/plain": [
       "81"
      ]
     },
     "execution_count": 152,
     "metadata": {},
     "output_type": "execute_result"
    }
   ],
   "source": [
    "df_store_dept[\"Dept\"].nunique()"
   ]
  },
  {
   "cell_type": "code",
   "execution_count": 153,
   "metadata": {},
   "outputs": [
    {
     "name": "stdout",
     "output_type": "stream",
     "text": [
      "[10 12 14 15 18 19 22 24 27 28 29 33 34 35 38 42 45]\n",
      "[ 1  2  3  4  6  8  9 10 11 12 13 14 17 18 19 20 22 23 24 25 26 27 28 31\n",
      " 32 34 35 37 39 40 41 42 43 45]\n",
      "[ 2  4  7  8  9 13 14 15 16 17 18 19 20 21 22 23 25 26 27 29 30 31 32 33\n",
      " 34 35 40 41 42 44 45]\n",
      "[ 1  2  3  4  5  6  7  8  9 11 16 21 25 30 31 32 34 36 37 39 41 43 44]\n"
     ]
    }
   ],
   "source": [
    "print(df_store_dept[df_store_dept[\"Cluster\"] == 0][\"Store\"].unique())\n",
    "print(df_store_dept[df_store_dept[\"Cluster\"] == 1][\"Store\"].unique())\n",
    "print(df_store_dept[df_store_dept[\"Cluster\"] == 2][\"Store\"].unique())\n",
    "print(df_store_dept[df_store_dept[\"Cluster\"] == 3][\"Store\"].unique())"
   ]
  },
  {
   "cell_type": "code",
   "execution_count": 154,
   "metadata": {},
   "outputs": [
    {
     "name": "stdout",
     "output_type": "stream",
     "text": [
      "17\n",
      "34\n",
      "31\n",
      "23\n"
     ]
    }
   ],
   "source": [
    "print(df_store_dept[df_store_dept[\"Cluster\"] == 0][\"Store\"].nunique())\n",
    "print(df_store_dept[df_store_dept[\"Cluster\"] == 1][\"Store\"].nunique())\n",
    "print(df_store_dept[df_store_dept[\"Cluster\"] == 2][\"Store\"].nunique())\n",
    "print(df_store_dept[df_store_dept[\"Cluster\"] == 3][\"Store\"].nunique())"
   ]
  },
  {
   "cell_type": "code",
   "execution_count": 155,
   "metadata": {},
   "outputs": [
    {
     "data": {
      "text/plain": [
       "45"
      ]
     },
     "execution_count": 155,
     "metadata": {},
     "output_type": "execute_result"
    }
   ],
   "source": [
    "df_store_dept[\"Store\"].nunique()"
   ]
  },
  {
   "cell_type": "code",
   "execution_count": 156,
   "metadata": {},
   "outputs": [],
   "source": [
    "cluster_summary = df_store_dept.groupby('Cluster')[features].mean().reset_index()"
   ]
  },
  {
   "cell_type": "code",
   "execution_count": 157,
   "metadata": {},
   "outputs": [
    {
     "data": {
      "text/html": [
       "<div>\n",
       "<style scoped>\n",
       "    .dataframe tbody tr th:only-of-type {\n",
       "        vertical-align: middle;\n",
       "    }\n",
       "\n",
       "    .dataframe tbody tr th {\n",
       "        vertical-align: top;\n",
       "    }\n",
       "\n",
       "    .dataframe thead th {\n",
       "        text-align: right;\n",
       "    }\n",
       "</style>\n",
       "<table border=\"1\" class=\"dataframe\">\n",
       "  <thead>\n",
       "    <tr style=\"text-align: right;\">\n",
       "      <th></th>\n",
       "      <th>Cluster</th>\n",
       "      <th>Weekly_Sales</th>\n",
       "      <th>Temperature</th>\n",
       "      <th>Fuel_Price</th>\n",
       "      <th>CPI</th>\n",
       "      <th>Unemployment</th>\n",
       "      <th>Total_MarkDown</th>\n",
       "    </tr>\n",
       "  </thead>\n",
       "  <tbody>\n",
       "    <tr>\n",
       "      <th>0</th>\n",
       "      <td>0</td>\n",
       "      <td>5.657014e+05</td>\n",
       "      <td>60.667614</td>\n",
       "      <td>3.835863</td>\n",
       "      <td>141.572420</td>\n",
       "      <td>8.940538</td>\n",
       "      <td>19519.141740</td>\n",
       "    </tr>\n",
       "    <tr>\n",
       "      <th>1</th>\n",
       "      <td>1</td>\n",
       "      <td>3.725462e+06</td>\n",
       "      <td>59.868795</td>\n",
       "      <td>3.641099</td>\n",
       "      <td>176.674291</td>\n",
       "      <td>7.033920</td>\n",
       "      <td>25563.219155</td>\n",
       "    </tr>\n",
       "    <tr>\n",
       "      <th>2</th>\n",
       "      <td>2</td>\n",
       "      <td>4.828556e+05</td>\n",
       "      <td>49.161666</td>\n",
       "      <td>3.606190</td>\n",
       "      <td>166.081228</td>\n",
       "      <td>6.347149</td>\n",
       "      <td>19325.055515</td>\n",
       "    </tr>\n",
       "    <tr>\n",
       "      <th>3</th>\n",
       "      <td>3</td>\n",
       "      <td>4.860914e+05</td>\n",
       "      <td>68.010749</td>\n",
       "      <td>3.491424</td>\n",
       "      <td>221.112942</td>\n",
       "      <td>6.733450</td>\n",
       "      <td>15247.300424</td>\n",
       "    </tr>\n",
       "  </tbody>\n",
       "</table>\n",
       "</div>"
      ],
      "text/plain": [
       "   Cluster  Weekly_Sales  Temperature  Fuel_Price         CPI  Unemployment  \\\n",
       "0        0  5.657014e+05    60.667614    3.835863  141.572420      8.940538   \n",
       "1        1  3.725462e+06    59.868795    3.641099  176.674291      7.033920   \n",
       "2        2  4.828556e+05    49.161666    3.606190  166.081228      6.347149   \n",
       "3        3  4.860914e+05    68.010749    3.491424  221.112942      6.733450   \n",
       "\n",
       "   Total_MarkDown  \n",
       "0    19519.141740  \n",
       "1    25563.219155  \n",
       "2    19325.055515  \n",
       "3    15247.300424  "
      ]
     },
     "execution_count": 157,
     "metadata": {},
     "output_type": "execute_result"
    }
   ],
   "source": [
    "cluster_summary"
   ]
  },
  {
   "cell_type": "code",
   "execution_count": 158,
   "metadata": {},
   "outputs": [
    {
     "data": {
      "image/png": "[encoded data removed]",
      "text/plain": [
       "<Figure size 1440x1080 with 6 Axes>"
      ]
     },
     "metadata": {
      "needs_background": "light"
     },
     "output_type": "display_data"
    }
   ],
   "source": [
    "# Create a list of the features to be plotted along with their respective titles and y-labels\n",
    "features = [\n",
    "    ('Weekly_Sales', 'Average Weekly Sales by Cluster', 'Average Weekly Sales'),\n",
    "    ('Temperature', 'Average Temperature by Cluster', 'Average Temperature'),\n",
    "    ('Fuel_Price', 'Average Fuel Price by Cluster', 'Average Fuel Price'),\n",
    "    ('CPI', 'Average Consumer Price Index by Cluster', 'Average CPI'),\n",
    "    ('Unemployment', 'Average Unemployment by Cluster', 'Average Unemployment'), \n",
    "    (\"Total_MarkDown\", 'Average Markdowns by Cluster', 'Average Markdowns')\n",
    "]\n",
    "\n",
    "plt.figure(figsize=(20, 15))\n",
    "\n",
    "# Loop through the features list and plot each feature in a subplot\n",
    "for i, (feature, title, ylabel) in enumerate(features, 1):\n",
    "    plt.subplot(3, 2, i)\n",
    "    sns.barplot(x='Cluster', y=feature, data=cluster_summary)\n",
    "    plt.title(title)\n",
    "    plt.ylabel(ylabel)\n",
    "    plt.xlabel('Cluster')\n",
    "\n",
    "plt.tight_layout()\n",
    "plt.show()"
   ]
  },
  {
   "cell_type": "markdown",
   "metadata": {},
   "source": []
  },
  {
   "cell_type": "code",
   "execution_count": 159,
   "metadata": {},
   "outputs": [],
   "source": [
    "def diagnostic_tests(y, X, model):\n",
    "    results = {}\n",
    "\n",
    "    # Breusch-Pagan Test for Homoscedasticity\n",
    "    bp_test = het_breuschpagan(model.resid, model.model.exog)\n",
    "    results['Breusch-Pagan p-value'] = bp_test[1]\n",
    "\n",
    "    # Anderson-Darling Test for Normality\n",
    "    a_test = anderson(model.resid)\n",
    "    results['Anderson-Darling Statistic'] = a_test.statistic\n",
    "    results['Anderson-Darling 5% Critical Value'] = a_test.critical_values[2]\n",
    "\n",
    "    # VIF for Multicollinearity\n",
    "    vif_data = pd.DataFrame()\n",
    "    vif_data[\"Variable\"] = X.columns\n",
    "    vif_data[\"VIF\"] = [variance_inflation_factor(X.values, i) for i in range(X.shape[1])]\n",
    "    results['Max VIF'] = vif_data['VIF'].max()\n",
    "\n",
    "    # Durbin-Watson for Autocorrelation\n",
    "    results['Durbin-Watson Statistic'] = sm.stats.durbin_watson(model.resid)\n",
    "\n",
    "    return results"
   ]
  },
  {
   "cell_type": "code",
   "execution_count": 160,
   "metadata": {},
   "outputs": [
    {
     "data": {
      "text/html": [
       "<div>\n",
       "<style scoped>\n",
       "    .dataframe tbody tr th:only-of-type {\n",
       "        vertical-align: middle;\n",
       "    }\n",
       "\n",
       "    .dataframe tbody tr th {\n",
       "        vertical-align: top;\n",
       "    }\n",
       "\n",
       "    .dataframe thead th {\n",
       "        text-align: right;\n",
       "    }\n",
       "</style>\n",
       "<table border=\"1\" class=\"dataframe\">\n",
       "  <thead>\n",
       "    <tr style=\"text-align: right;\">\n",
       "      <th></th>\n",
       "      <th>Anderson-Darling 5% Critical Value</th>\n",
       "      <th>Anderson-Darling Statistic</th>\n",
       "      <th>Breusch-Pagan p-value</th>\n",
       "      <th>Durbin-Watson Statistic</th>\n",
       "      <th>Max VIF</th>\n",
       "    </tr>\n",
       "  </thead>\n",
       "  <tbody>\n",
       "    <tr>\n",
       "      <th>result</th>\n",
       "      <td>0.787</td>\n",
       "      <td>36628.914285</td>\n",
       "      <td>2.559888e-169</td>\n",
       "      <td>0.114456</td>\n",
       "      <td>131.47741</td>\n",
       "    </tr>\n",
       "  </tbody>\n",
       "</table>\n",
       "</div>"
      ],
      "text/plain": [
       "        Anderson-Darling 5% Critical Value  Anderson-Darling Statistic  \\\n",
       "result                               0.787                36628.914285   \n",
       "\n",
       "        Breusch-Pagan p-value  Durbin-Watson Statistic    Max VIF  \n",
       "result          2.559888e-169                 0.114456  131.47741  "
      ]
     },
     "execution_count": 160,
     "metadata": {},
     "output_type": "execute_result"
    }
   ],
   "source": [
    "diagnostics = {}\n",
    "\n",
    "predictors = ['Total_MarkDown', 'Temperature', 'Fuel_Price', 'CPI', 'Unemployment']\n",
    "X = sm.add_constant(train_df[predictors])\n",
    "y = train_df['Weekly_Sales']\n",
    "\n",
    "model = sm.OLS(y, X).fit()\n",
    "\n",
    "# Diagnostic tests\n",
    "diagnostics[\"result\"] = diagnostic_tests(y, X, model)\n",
    "\n",
    "diagnostics_df = pd.DataFrame(diagnostics).T\n",
    "diagnostics_df.head()"
   ]
  },
  {
   "cell_type": "markdown",
   "metadata": {},
   "source": [
    "1. **Anderson-Darling Test for Normality**:\n",
    "    - **5% Critical Value**: 0.787\n",
    "    - **Anderson-Darling Statistic**: 36628.914285\n",
    "  \n",
    "   The Anderson-Darling test is a test of goodness-of-fit, particularly suited for checking if a given sample follows a particular distribution (like a normal distribution). If the Anderson-Darling Statistic is greater than the critical value, then the sample doesn't follow the distribution under test (at the given significance level). In your case, the statistic is much greater than the 5% critical value, indicating that the data does not follow a normal distribution.\n",
    "\n",
    "2. **Breusch-Pagan Test for Homoscedasticity**:\n",
    "    - **Breusch-Pagan p-value**: 2.559888e-169\n",
    "  \n",
    "   This test checks the assumption of constant variance (homoscedasticity). A low p-value indicates the presence of heteroscedasticity (non-constant variance). Given the extremely low p-value you provided, there is strong evidence to reject the null hypothesis of constant variance. Thus, your data appears to be heteroscedastic.\n",
    "\n",
    "3. **Durbin-Watson Test for Autocorrelation**:\n",
    "    - **Durbin-Watson Statistic**: 0.114456\n",
    "  \n",
    "   The Durbin-Watson test is used to detect the presence of autocorrelation (a relationship between values separated from each other by a given time lag) in the residuals of a regression analysis. The statistic ranges from 0 to 4, with a value of 2 suggesting no autocorrelation. A value below 2 suggests positive autocorrelation, and above 2 suggests negative autocorrelation. Your statistic of 0.114456 is far below 2, indicating strong positive autocorrelation in the residuals.\n",
    "\n",
    "4. **Variance Inflation Factor (VIF)**:\n",
    "    - **Max VIF**: 131.47741\n",
    "  \n",
    "   VIF is a metric used to detect multicollinearity in regression. A rule of thumb is that if the VIF is above 5-10, then multicollinearity is high, indicating that some predictors are correlated with other predictors. The VIF value you provided is 131.47741, which is significantly above the common threshold, suggesting that multicollinearity is indeed present in your data.\n",
    "\n",
    "In summary, based on the diagnostic results:\n",
    "- Data is not normally distributed.\n",
    "- There is evidence of heteroscedasticity.\n",
    "- The residuals from your regression have strong positive autocorrelation.\n",
    "- There's significant multicollinearity among some of your predictors."
   ]
  }
 ],
 "metadata": {
  "kernelspec": {
   "display_name": "Python 3",
   "language": "python",
   "name": "python3"
  },
  "language_info": {
   "codemirror_mode": {
    "name": "ipython",
    "version": 3
   },
   "file_extension": ".py",
   "mimetype": "text/x-python",
   "name": "python",
   "nbconvert_exporter": "python",
   "pygments_lexer": "ipython3",
   "version": "3.10.7"
  },
  "orig_nbformat": 4
 },
 "nbformat": 4,
 "nbformat_minor": 2
}
